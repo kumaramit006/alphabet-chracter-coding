{
 "cells": [
  {
   "cell_type": "code",
   "execution_count": 101,
   "id": "652518a7",
   "metadata": {},
   "outputs": [],
   "source": [
    "# Alphabet writing"
   ]
  },
  {
   "cell_type": "code",
   "execution_count": 8,
   "id": "e15eaca5",
   "metadata": {},
   "outputs": [
    {
     "name": "stdout",
     "output_type": "stream",
     "text": [
      "* * *\n",
      "*   *\n",
      "* * *\n",
      "*   *\n"
     ]
    }
   ],
   "source": [
    "x=0\n",
    "while x<4:\n",
    "    if x==0:\n",
    "        print(\"* * *\")\n",
    "    elif x==1:\n",
    "        print(\"*   *\")\n",
    "    elif x==2:\n",
    "        print(\"* * *\")\n",
    "    elif x==3:\n",
    "        print(\"*   *\")\n",
    "    else:\n",
    "        print(\"*   *\")\n",
    "    x=x+1"
   ]
  },
  {
   "cell_type": "code",
   "execution_count": 17,
   "id": "9b9cb72c",
   "metadata": {},
   "outputs": [
    {
     "name": "stdout",
     "output_type": "stream",
     "text": [
      "* * *\n",
      "*   *\n",
      "* * \n",
      "*   *\n",
      "* * *\n"
     ]
    }
   ],
   "source": [
    "x=0\n",
    "while x<5:\n",
    "    if x==0:\n",
    "        print(\"* * *\")\n",
    "    elif x==1:\n",
    "        print(\"*   *\")\n",
    "    elif x==2:\n",
    "        print(\"* * \")\n",
    "    elif x==3:\n",
    "        print(\"*   *\")\n",
    "    else:\n",
    "        print(\"* * *\")\n",
    "    x=x+1"
   ]
  },
  {
   "cell_type": "code",
   "execution_count": 20,
   "id": "158cc7da",
   "metadata": {},
   "outputs": [
    {
     "name": "stdout",
     "output_type": "stream",
     "text": [
      "*  *  *\n",
      "*\n",
      "*\n",
      "*\n",
      "*  *  *\n"
     ]
    }
   ],
   "source": [
    "x=0\n",
    "while x<5:\n",
    "    if x==0:\n",
    "        print('*  *  *')\n",
    "    elif x==1:\n",
    "        print('*')\n",
    "    elif x==2:\n",
    "        print('*')\n",
    "    elif x==3:\n",
    "        print('*')\n",
    "    else:\n",
    "        print('*  *  *')\n",
    "    x=x+1\n",
    "        "
   ]
  },
  {
   "cell_type": "code",
   "execution_count": 23,
   "id": "a5084774",
   "metadata": {},
   "outputs": [
    {
     "name": "stdout",
     "output_type": "stream",
     "text": [
      "*  *\n",
      "*    * \n",
      "*     *\n",
      "*    * \n",
      "*  *\n"
     ]
    }
   ],
   "source": [
    "x=0\n",
    "while x<5:\n",
    "    if x==0:\n",
    "        print('*  *')\n",
    "    elif x==1:\n",
    "        print('*    * ')\n",
    "    elif x==2:\n",
    "        print('*     *')\n",
    "    elif x==3:\n",
    "        print('*    * ')\n",
    "    else:\n",
    "        print('*  *')\n",
    "    x=x+1"
   ]
  },
  {
   "cell_type": "code",
   "execution_count": 42,
   "id": "7b910033",
   "metadata": {},
   "outputs": [
    {
     "name": "stdout",
     "output_type": "stream",
     "text": [
      "*  *  *\n",
      "*\n",
      "*  *  \n",
      "*\n",
      "*  *  *\n"
     ]
    }
   ],
   "source": [
    "x=0\n",
    "while x<5:\n",
    "    if x==0:\n",
    "        print('*  *  *')\n",
    "    elif x==1:\n",
    "        print('*')\n",
    "    elif x==2:\n",
    "        print('*  *  ')\n",
    "    elif x==3:\n",
    "        print('*')\n",
    "    else:\n",
    "        print('*  *  *')\n",
    "    x=x+1"
   ]
  },
  {
   "cell_type": "code",
   "execution_count": 25,
   "id": "85c704f4",
   "metadata": {},
   "outputs": [
    {
     "name": "stdout",
     "output_type": "stream",
     "text": [
      "*  *  *\n",
      "*\n",
      "*  *  *\n",
      "*\n",
      "*\n"
     ]
    }
   ],
   "source": [
    "x=0\n",
    "while x<5:\n",
    "    if x==0:\n",
    "        print('*  *  *')\n",
    "    elif x==1:\n",
    "        print('*')\n",
    "    elif x==2:\n",
    "        print('*  *  *')\n",
    "    elif x==3:\n",
    "        print('*')\n",
    "    else:\n",
    "        print('*')\n",
    "    x=x+1"
   ]
  },
  {
   "cell_type": "code",
   "execution_count": 41,
   "id": "09f8cc21",
   "metadata": {},
   "outputs": [
    {
     "name": "stdout",
     "output_type": "stream",
     "text": [
      "*  *  *\n",
      "*\n",
      "*\n",
      "*  *  *\n",
      "*  *  *\n",
      "      *\n"
     ]
    }
   ],
   "source": [
    "x=0\n",
    "while x<6:\n",
    "    if x==0:\n",
    "        print('*  *  *')\n",
    "    elif x==1:\n",
    "        print('*')\n",
    "    elif x==2:\n",
    "        print('*')\n",
    "    elif x==3:\n",
    "        print('*  *  *')\n",
    "    elif x==4:\n",
    "        print('*  *  *')\n",
    "    else:\n",
    "        print('      *')\n",
    "    x=x+1"
   ]
  },
  {
   "cell_type": "code",
   "execution_count": 45,
   "id": "8de9bf3b",
   "metadata": {},
   "outputs": [
    {
     "name": "stdout",
     "output_type": "stream",
     "text": [
      "*     *\n",
      "*     *\n",
      "*  *  *\n",
      "*     *\n",
      "*     *\n"
     ]
    }
   ],
   "source": [
    "x=0\n",
    "while x<5:\n",
    "    if x==0:\n",
    "        print('*     *')\n",
    "    elif x==1:\n",
    "        print('*     *')\n",
    "    elif x==2:\n",
    "        print('*  *  *')\n",
    "    elif x==3:\n",
    "        print('*     *')\n",
    "    else:\n",
    "        print('*     *')\n",
    "    x=x+1"
   ]
  },
  {
   "cell_type": "code",
   "execution_count": 46,
   "id": "b3903c0c",
   "metadata": {},
   "outputs": [
    {
     "name": "stdout",
     "output_type": "stream",
     "text": [
      "*  *  *\n",
      "   *   \n",
      "   *   \n",
      "   *   \n",
      "*  *  *\n"
     ]
    }
   ],
   "source": [
    "x=0\n",
    "while x<5:\n",
    "    if x==0:\n",
    "        print('*  *  *')\n",
    "    elif x==1:\n",
    "        print('   *   ')\n",
    "    elif x==2:\n",
    "        print('   *   ')\n",
    "    elif x==3:\n",
    "        print('   *   ')\n",
    "    else:\n",
    "        print('*  *  *')\n",
    "    x=x+1"
   ]
  },
  {
   "cell_type": "code",
   "execution_count": 48,
   "id": "94af6c52",
   "metadata": {},
   "outputs": [
    {
     "name": "stdout",
     "output_type": "stream",
     "text": [
      "*  *  *\n",
      "      *\n",
      "      *\n",
      "*     *\n",
      "   *  *\n"
     ]
    }
   ],
   "source": [
    "x=0\n",
    "while x<5:\n",
    "    if x==0:\n",
    "        print('*  *  *')\n",
    "    elif x==1:\n",
    "        print('      *')\n",
    "    elif x==2:\n",
    "        print('      *')\n",
    "    elif x==3:\n",
    "        print('*     *')\n",
    "    else:\n",
    "        print('   *  *')\n",
    "    x=x+1"
   ]
  },
  {
   "cell_type": "code",
   "execution_count": 51,
   "id": "f643c718",
   "metadata": {},
   "outputs": [
    {
     "name": "stdout",
     "output_type": "stream",
     "text": [
      "*     *\n",
      "*\n",
      "*  *\n",
      "*\n",
      "*     *\n"
     ]
    }
   ],
   "source": [
    "x=0\n",
    "while x<5:\n",
    "    if x==0:\n",
    "        print('*     *')\n",
    "    elif x==1:\n",
    "        print('*')\n",
    "    elif x==2:\n",
    "        print('*  *')\n",
    "    elif x==3:\n",
    "        print('*')\n",
    "    else:\n",
    "        print('*     *')\n",
    "    x=x+1"
   ]
  },
  {
   "cell_type": "code",
   "execution_count": 52,
   "id": "602563d0",
   "metadata": {},
   "outputs": [
    {
     "name": "stdout",
     "output_type": "stream",
     "text": [
      "*\n",
      "*\n",
      "*\n",
      "*\n",
      "*  *  *\n"
     ]
    }
   ],
   "source": [
    "x=0\n",
    "while x<5:\n",
    "    if x==0:\n",
    "        print('*')\n",
    "    elif x==1:\n",
    "        print('*')\n",
    "    elif x==2:\n",
    "        print('*')\n",
    "    elif x==3:\n",
    "        print('*')\n",
    "    else:\n",
    "        print('*  *  *')\n",
    "    x=x+1"
   ]
  },
  {
   "cell_type": "code",
   "execution_count": 70,
   "id": "1114c66b",
   "metadata": {},
   "outputs": [
    {
     "name": "stdout",
     "output_type": "stream",
     "text": [
      "*  *        *  *\n",
      "*    *    *    *\n",
      "*      *       *\n",
      "*              *\n",
      "*              *\n"
     ]
    }
   ],
   "source": [
    "x=0\n",
    "while x<5:\n",
    "    if x==0:\n",
    "        print('*  *        *  *')\n",
    "    elif x==1:\n",
    "        print('*    *    *    *')\n",
    "    elif x==2:\n",
    "        print('*      *       *')\n",
    "    elif x==3:\n",
    "        print('*              *')\n",
    "    else:\n",
    "        print('*              *')\n",
    "    x=x+1"
   ]
  },
  {
   "cell_type": "code",
   "execution_count": 71,
   "id": "0e432ae0",
   "metadata": {},
   "outputs": [
    {
     "name": "stdout",
     "output_type": "stream",
     "text": [
      "*  *           *\n",
      "*    *         *\n",
      "*      *       *\n",
      "*          *   *\n",
      "*              *\n"
     ]
    }
   ],
   "source": [
    "x=0\n",
    "while x<5:\n",
    "    if x==0:\n",
    "        print('*  *           *')\n",
    "    elif x==1:\n",
    "        print('*    *         *')\n",
    "    elif x==2:\n",
    "        print('*      *       *')\n",
    "    elif x==3:\n",
    "        print('*          *   *')\n",
    "    else:\n",
    "        print('*              *')\n",
    "    x=x+1"
   ]
  },
  {
   "cell_type": "code",
   "execution_count": 72,
   "id": "40c08733",
   "metadata": {},
   "outputs": [
    {
     "name": "stdout",
     "output_type": "stream",
     "text": [
      "*  *  *\n",
      "*     *\n",
      "*     *\n",
      "*     *\n",
      "*  *  *\n"
     ]
    }
   ],
   "source": [
    "x=0\n",
    "while x<5:\n",
    "    if x==0:\n",
    "        print('*  *  *')\n",
    "    elif x==1:\n",
    "        print('*     *')\n",
    "    elif x==2:\n",
    "        print('*     *')\n",
    "    elif x==3:\n",
    "        print('*     *')\n",
    "    else:\n",
    "        print('*  *  *')\n",
    "    x=x+1"
   ]
  },
  {
   "cell_type": "code",
   "execution_count": 73,
   "id": "19fe2fb0",
   "metadata": {},
   "outputs": [
    {
     "name": "stdout",
     "output_type": "stream",
     "text": [
      "*  *  *\n",
      "*     *\n",
      "*  *  *\n",
      "*\n",
      "*\n"
     ]
    }
   ],
   "source": [
    "x=0\n",
    "while x<5:\n",
    "    if x==0:\n",
    "        print('*  *  *')\n",
    "    elif x==1:\n",
    "        print('*     *')\n",
    "    elif x==2:\n",
    "        print('*  *  *')\n",
    "    elif x==3:\n",
    "        print('*')\n",
    "    else:\n",
    "        print('*')\n",
    "    x=x+1"
   ]
  },
  {
   "cell_type": "code",
   "execution_count": 81,
   "id": "d7402341",
   "metadata": {},
   "outputs": [
    {
     "name": "stdout",
     "output_type": "stream",
     "text": [
      "*  *  *\n",
      "*     *\n",
      "*     *\n",
      "*   * *\n",
      "*  *  *\n",
      "         *\n"
     ]
    }
   ],
   "source": [
    "x=0\n",
    "while x<6:\n",
    "    if x==0:\n",
    "        print('*  *  *')\n",
    "    elif x==1:\n",
    "        print('*     *')\n",
    "    elif x==2:\n",
    "        print('*     *')\n",
    "    elif x==3:\n",
    "        print('*   * *')\n",
    "    elif x==4:\n",
    "        print('*  *  *')\n",
    "    else:\n",
    "        print('         *')\n",
    "    x=x+1"
   ]
  },
  {
   "cell_type": "code",
   "execution_count": 82,
   "id": "ada6b400",
   "metadata": {},
   "outputs": [
    {
     "name": "stdout",
     "output_type": "stream",
     "text": [
      "*  *  *\n",
      "*     *\n",
      "*  *  *\n",
      "*    *\n",
      "*     *\n"
     ]
    }
   ],
   "source": [
    "x=0\n",
    "while x<5:\n",
    "    if x==0:\n",
    "        print('*  *  *')\n",
    "    elif x==1:\n",
    "        print('*     *')\n",
    "    elif x==2:\n",
    "        print('*  *  *')\n",
    "    elif x==3:\n",
    "        print('*    *')\n",
    "    else:\n",
    "        print('*     *')\n",
    "    x=x+1"
   ]
  },
  {
   "cell_type": "code",
   "execution_count": 85,
   "id": "0a77c6de",
   "metadata": {},
   "outputs": [
    {
     "name": "stdout",
     "output_type": "stream",
     "text": [
      "*  *  *\n",
      "*      \n",
      "*  *  *\n",
      "      *\n",
      "*  *  *\n"
     ]
    }
   ],
   "source": [
    "x=0\n",
    "while x<5:\n",
    "    if x==0:\n",
    "        print('*  *  *')\n",
    "    elif x==1:\n",
    "        print('*      ')\n",
    "    elif x==2:\n",
    "        print('*  *  *')\n",
    "    elif x==3:\n",
    "        print('      *')\n",
    "    else:\n",
    "        print('*  *  *')\n",
    "    x=x+1"
   ]
  },
  {
   "cell_type": "code",
   "execution_count": 88,
   "id": "59e8b350",
   "metadata": {},
   "outputs": [
    {
     "name": "stdout",
     "output_type": "stream",
     "text": [
      "*  *  *  *\n",
      "    *     \n",
      "    *     \n",
      "    *     \n",
      "    *     \n"
     ]
    }
   ],
   "source": [
    "x=0\n",
    "while x<5:\n",
    "    if x==0:\n",
    "        print('*  *  *  *')\n",
    "    elif x==1:\n",
    "        print('    *     ')\n",
    "    elif x==2:\n",
    "        print('    *     ')\n",
    "    elif x==3:\n",
    "        print('    *     ')\n",
    "    else:\n",
    "        print('    *     ')\n",
    "    x=x+1"
   ]
  },
  {
   "cell_type": "code",
   "execution_count": 89,
   "id": "70298b67",
   "metadata": {},
   "outputs": [
    {
     "name": "stdout",
     "output_type": "stream",
     "text": [
      "*        *\n",
      "*        *\n",
      "*        *\n",
      "*        *\n",
      "*  *  *  *\n"
     ]
    }
   ],
   "source": [
    "x=0\n",
    "while x<5:\n",
    "    if x==0:\n",
    "        print('*        *')\n",
    "    elif x==1:\n",
    "        print('*        *')\n",
    "    elif x==2:\n",
    "        print('*        *')\n",
    "    elif x==3:\n",
    "        print('*        *')\n",
    "    else:\n",
    "        print('*  *  *  *')\n",
    "    x=x+1"
   ]
  },
  {
   "cell_type": "code",
   "execution_count": 90,
   "id": "59837c05",
   "metadata": {},
   "outputs": [
    {
     "name": "stdout",
     "output_type": "stream",
     "text": [
      "*        *\n",
      "*        *\n",
      "*        *\n",
      "*        *\n",
      "    *     \n"
     ]
    }
   ],
   "source": [
    "x=0\n",
    "while x<5:\n",
    "    if x==0:\n",
    "        print('*        *')\n",
    "    elif x==1:\n",
    "        print('*        *')\n",
    "    elif x==2:\n",
    "        print('*        *')\n",
    "    elif x==3:\n",
    "        print('*        *')\n",
    "    else:\n",
    "        print('    *     ')\n",
    "    x=x+1"
   ]
  },
  {
   "cell_type": "code",
   "execution_count": 93,
   "id": "026cc6fe",
   "metadata": {},
   "outputs": [
    {
     "name": "stdout",
     "output_type": "stream",
     "text": [
      "*              *\n",
      "*              *\n",
      "*       *      *\n",
      "*  *        *  *\n",
      "*              *\n"
     ]
    }
   ],
   "source": [
    "x=0\n",
    "while x<5:\n",
    "    if x==0:\n",
    "        print('*              *')\n",
    "    elif x==1:\n",
    "        print('*              *')\n",
    "    elif x==2:\n",
    "        print('*       *      *')\n",
    "    elif x==3:\n",
    "        print('*  *        *  *')\n",
    "    else:\n",
    "        print('*              *')\n",
    "    x=x+1"
   ]
  },
  {
   "cell_type": "code",
   "execution_count": 95,
   "id": "a7552936",
   "metadata": {},
   "outputs": [
    {
     "name": "stdout",
     "output_type": "stream",
     "text": [
      "*              *\n",
      "    *       *   \n",
      "       *       \n",
      "   *        *   \n",
      "*              *\n"
     ]
    }
   ],
   "source": [
    "x=0\n",
    "while x<5:\n",
    "    if x==0:\n",
    "        print('*              *')\n",
    "    elif x==1:\n",
    "        print('    *       *   ')\n",
    "    elif x==2:\n",
    "        print('       *       ')\n",
    "    elif x==3:\n",
    "        print('   *        *   ')\n",
    "    else:\n",
    "        print('*              *')\n",
    "    x=x+1"
   ]
  },
  {
   "cell_type": "code",
   "execution_count": 98,
   "id": "2ab3a32d",
   "metadata": {},
   "outputs": [
    {
     "name": "stdout",
     "output_type": "stream",
     "text": [
      "*              *\n",
      "    *       *   \n",
      "        *        \n",
      "        *        \n",
      "        *        \n"
     ]
    }
   ],
   "source": [
    "x=0\n",
    "while x<5:\n",
    "    if x==0:\n",
    "        print('*              *')\n",
    "    elif x==1:\n",
    "        print('    *       *   ')\n",
    "    elif x==2:\n",
    "        print('        *        ')\n",
    "    elif x==3:\n",
    "        print('        *        ')\n",
    "    else:\n",
    "        print('        *        ')\n",
    "    x=x+1"
   ]
  },
  {
   "cell_type": "code",
   "execution_count": 100,
   "id": "dd111a63",
   "metadata": {},
   "outputs": [
    {
     "name": "stdout",
     "output_type": "stream",
     "text": [
      "*  *  *   *  *\n",
      "            *\n",
      "       *\n",
      "   *\n",
      "*  *  *   *  *\n"
     ]
    }
   ],
   "source": [
    "x=0\n",
    "while x<5:\n",
    "    if x==0:\n",
    "        print('*  *  *   *  *')\n",
    "    elif x==1:\n",
    "        print('            *')\n",
    "    elif x==2:\n",
    "        print('       *')\n",
    "    elif x==3:\n",
    "        print('   *')\n",
    "    else:\n",
    "        print('*  *  *   *  *')\n",
    "    x=x+1"
   ]
  },
  {
   "cell_type": "code",
   "execution_count": null,
   "id": "2315b171",
   "metadata": {},
   "outputs": [],
   "source": []
  }
 ],
 "metadata": {
  "kernelspec": {
   "display_name": "Python 3 (ipykernel)",
   "language": "python",
   "name": "python3"
  },
  "language_info": {
   "codemirror_mode": {
    "name": "ipython",
    "version": 3
   },
   "file_extension": ".py",
   "mimetype": "text/x-python",
   "name": "python",
   "nbconvert_exporter": "python",
   "pygments_lexer": "ipython3",
   "version": "3.9.7"
  }
 },
 "nbformat": 4,
 "nbformat_minor": 5
}
